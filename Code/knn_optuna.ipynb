{
 "cells": [
  {
   "cell_type": "code",
   "execution_count": 13,
   "metadata": {},
   "outputs": [],
   "source": [
    "import pandas as pd\n",
    "import sklearn.ensemble\n",
    "import sklearn.model_selection"
   ]
  },
  {
   "cell_type": "code",
   "execution_count": 14,
   "metadata": {},
   "outputs": [],
   "source": [
    "pd = pd.read_csv('merged_data.csv')  #import synthetic dataset\n",
    "# pd\n",
    "\n",
    "#0 column = the incoming product volume\n",
    "#2 column = if the product is placed or not\n",
    "#3 column = Bin number in which the corresponding product is placed\n",
    "#100....119 = 20 bins with remaining empty space after placing product"
   ]
  },
  {
   "cell_type": "code",
   "execution_count": 15,
   "metadata": {},
   "outputs": [],
   "source": [
    "import numpy as np\n",
    "from sklearn.model_selection import train_test_split"
   ]
  },
  {
   "cell_type": "code",
   "execution_count": 16,
   "metadata": {},
   "outputs": [],
   "source": [
    "df = pd\n",
    "train, test = train_test_split(df, train_size=0.90)"
   ]
  },
  {
   "cell_type": "code",
   "execution_count": 17,
   "metadata": {},
   "outputs": [],
   "source": [
    "# train.head"
   ]
  },
  {
   "cell_type": "code",
   "execution_count": 18,
   "metadata": {},
   "outputs": [],
   "source": [
    "y_train = train['3']\n",
    "# y_train"
   ]
  },
  {
   "cell_type": "code",
   "execution_count": 19,
   "metadata": {},
   "outputs": [],
   "source": [
    "x_train = train.drop(['3'], axis='columns')\n",
    "\n",
    "# x_train"
   ]
  },
  {
   "cell_type": "code",
   "execution_count": 20,
   "metadata": {},
   "outputs": [],
   "source": [
    "y_test = test['3']\n",
    "# y_test"
   ]
  },
  {
   "cell_type": "code",
   "execution_count": 21,
   "metadata": {},
   "outputs": [],
   "source": [
    "x_test = test.drop(['3'], axis='columns')\n",
    "# x_test"
   ]
  },
  {
   "cell_type": "code",
   "execution_count": 22,
   "metadata": {},
   "outputs": [],
   "source": [
    "x_train = train.drop(['2'], axis='columns')\n",
    "x_train.drop(columns='3')\n",
    "# y_train\n",
    "\n",
    "x_test.drop(columns='2', inplace=True)"
   ]
  },
  {
   "cell_type": "code",
   "execution_count": 23,
   "metadata": {},
   "outputs": [],
   "source": [
    "import optuna\n",
    "from sklearn.neighbors import KNeighborsClassifier"
   ]
  },
  {
   "cell_type": "code",
   "execution_count": null,
   "metadata": {},
   "outputs": [
    {
     "name": "stderr",
     "output_type": "stream",
     "text": [
      "\u001b[32m[I 2021-04-06 16:58:59,888]\u001b[0m A new study created in memory with name: no-name-83038c09-5508-44ab-8574-2a8ead21e247\u001b[0m\n",
      "\u001b[32m[I 2021-04-06 17:03:00,357]\u001b[0m Trial 0 finished with value: 0.84223 and parameters: {'n_neighbors': 6, 'leaf_size': 252.28368720904774}. Best is trial 0 with value: 0.84223.\u001b[0m\n"
     ]
    }
   ],
   "source": [
    "def objective(trial):  #optuna knn function\n",
    "    \n",
    "    #its parameters\n",
    "    n_neighbors = trial.suggest_int('n_neighbors', 2, 20)\n",
    "    leaf_size = int(trial.suggest_float('leaf_size', 10, 400))\n",
    "    \n",
    "    clf = KNeighborsClassifier(n_neighbors=n_neighbors, leaf_size=leaf_size, n_jobs=-1)\n",
    "    \n",
    "    clf.fit(x_train.drop(columns='3'), y_train)\n",
    "    \n",
    "    return clf.score(x_test, y_test)\n",
    "\n",
    "#     return sklearn.model_selection.cross_val_score(clf, x_train.drop(columns='3'), y_train, n_jobs=-1, cv=3).mean()\n",
    "\n",
    "study = optuna.create_study(direction='maximize')\n",
    "study.optimize(objective, n_trials=25)\n",
    "\n",
    "trial = study.best_trial\n",
    "\n",
    "print('Accuracy: {}'.format(trial.value))\n",
    "print(\"Best hyperparameters: {}\".format(trial.params))"
   ]
  }
 ],
 "metadata": {
  "kernelspec": {
   "display_name": "Python 3",
   "language": "python",
   "name": "python3"
  },
  "language_info": {
   "codemirror_mode": {
    "name": "ipython",
    "version": 3
   },
   "file_extension": ".py",
   "mimetype": "text/x-python",
   "name": "python",
   "nbconvert_exporter": "python",
   "pygments_lexer": "ipython3",
   "version": "3.8.1"
  }
 },
 "nbformat": 4,
 "nbformat_minor": 4
}